{
 "cells": [
  {
   "cell_type": "code",
   "execution_count": null,
   "metadata": {},
   "outputs": [],
   "source": [
    "import os\n",
    "import pandas as pd\n",
    "from imageio import imread\n",
    "import cv2\n",
    "from pycocotools import mask as pymask\n",
    "import matplotlib.pyplot as plt\n",
    "import numpy as np\n",
    "from abcmodel.lib.datasets.cvat import Polygon\n",
    "\n",
    "DIR = '/workspace/pig'\n",
    "DATA_DIR = os.path.join(DIR, 'data/images_20211117')\n",
    "# DATA_DIR = os.path.join(DIR, 'data/images_20211125/images/')"
   ]
  },
  {
   "cell_type": "code",
   "execution_count": null,
   "metadata": {},
   "outputs": [],
   "source": [
    "df = pd.read_pickle(os.path.join(DIR, 'data/akiyama_20211202.pkl'))\n",
    "# df = pd.read_pickle(os.path.join(DATA_DIR, 'df_final.pkl'))\n",
    "df = df.reset_index()"
   ]
  },
  {
   "cell_type": "code",
   "execution_count": null,
   "metadata": {},
   "outputs": [],
   "source": [
    "# remove_idx = pd.read_csv('../remove_idx.csv', header=None)\n",
    "# remove_idx = list(remove_idx.values.flatten())\n",
    "\n",
    "# new_df = df[df.apply(lambda x: x['index']  not in remove_idx, axis=1)]\n",
    "# new_df.shape"
   ]
  },
  {
   "cell_type": "code",
   "execution_count": null,
   "metadata": {},
   "outputs": [],
   "source": [
    "import copy\n",
    "def rotate_head_tail(image_local, mask_local, depth_local):\n",
    "    h,w,_ = image_local.shape\n",
    "    center = (int(w/2), int(h/2))\n",
    "    if h > w:\n",
    "        indices_y, indices_x = np.where(mask_local)\n",
    "        min_y = np.min(indices_y)\n",
    "        max_y = np.max(indices_y)\n",
    "        upper_x = int(np.round(np.mean(indices_x[np.where(indices_y==min_y)])))\n",
    "        lower_x = int(np.round(np.mean(indices_x[np.where(indices_y==max_y)])))\n",
    "        upper_side = np.array([min_y, upper_x])\n",
    "        lower_side = np.array([max_y, lower_x])\n",
    "        theta = np.arctan((upper_side[0]-lower_side[0])/(upper_side[1]-lower_side[1]))\n",
    "    else:\n",
    "        indices_y, indices_x = np.where(mask_local)\n",
    "        min_x = np.min(indices_x)\n",
    "        max_x = np.max(indices_x)\n",
    "        upper_y = int(np.round(np.mean(indices_y[np.where(indices_x==min_x)])))\n",
    "        lower_y = int(np.round(np.mean(indices_y[np.where(indices_x==max_x)])))\n",
    "        upper_side = np.array([upper_y, min_x])\n",
    "        lower_side = np.array([lower_y, max_x])\n",
    "        theta = np.arctan((upper_side[0]-lower_side[0])/(upper_side[1]-lower_side[1]))\n",
    "\n",
    "    #  print(\"side: \", upper_side, lower_side)\n",
    "    angle = 180 * theta  / np.pi\n",
    "    # print(\"angle: \", angle)\n",
    "    trans = cv2.getRotationMatrix2D(center, angle , scale=1.0)\n",
    "\n",
    "    # 回転後の画像サイズを計算\n",
    "    w_rot = int(np.round(h*np.absolute(np.sin(theta))+w*np.absolute(np.cos(theta))))\n",
    "    h_rot = int(np.round(h*np.absolute(np.cos(theta))+w*np.absolute(np.sin(theta))))\n",
    "    size_rot = (w_rot, h_rot)\n",
    "\n",
    "    trans[0][2] = trans[0][2] -w/2 + w_rot/2\n",
    "    trans[1][2] = trans[1][2] -h/2 + h_rot/2\n",
    "\n",
    "    rotate_image = copy.deepcopy(image_local)\n",
    "    rotate_mask = copy.deepcopy(mask_local)\n",
    "    rotate_depth = copy.deepcopy(depth_local)\n",
    "\n",
    "    rotate_image = cv2.warpAffine(rotate_image, trans, (w_rot, h_rot))\n",
    "    rotate_mask = cv2.warpAffine(rotate_mask, trans, (w_rot, h_rot))\n",
    "    rotate_depth = cv2.warpAffine(rotate_depth, trans, (w_rot, h_rot))\n",
    "\n",
    "    mask_indices = np.where(rotate_mask)\n",
    "    xmin = np.min(mask_indices[1])\n",
    "    ymin = np.min(mask_indices[0])\n",
    "    xmax = np.max(mask_indices[1])\n",
    "    ymax = np.max(mask_indices[0])\n",
    "\n",
    "    rotate_image = rotate_image[ymin:ymax, xmin:xmax]\n",
    "    rotate_mask = rotate_mask[ymin:ymax, xmin:xmax]\n",
    "    rotate_depth = rotate_depth[ymin:ymax, xmin:xmax]\n",
    "\n",
    "    return rotate_image, rotate_mask, rotate_depth"
   ]
  },
  {
   "cell_type": "code",
   "execution_count": null,
   "metadata": {},
   "outputs": [],
   "source": [
    "for i in range(10, 20):\n",
    "    pig = df.iloc[i]\n",
    "    print(i, pig.filename)\n",
    "    image_file = os.path.join(DATA_DIR, pig.filename)\n",
    "    depth_file = os.path.join(DATA_DIR, pig.filename.replace(\"rgb\", \"depth\").replace(\"jpg\",\"png\"))\n",
    "    x0, y0, w, h = pig.bbox\n",
    "    anno_box = [x0, y0, x0+w, y0+h]\n",
    "    image = imread(image_file)\n",
    "    depth = imread(depth_file)\n",
    "    depth = cv2.resize(depth, (640, 480))\n",
    "    mask = pymask.decode(pig.polygon._rle)\n",
    "    mask_local = mask[y0:y0 + h, x0:x0 + w]\n",
    "    image_local = image[y0:y0 + h, x0:x0 + w]\n",
    "    depth_local = depth[y0:y0 + h, x0:x0 + w]\n",
    "\n",
    "    rotate_image, rotate_mask, rotate_depth = \\\n",
    "        rotate_head_tail(image_local, mask_local, depth_local)\n",
    "    rotate_depth = rotate_depth * rotate_mask\n",
    "    fig, (ax1,ax2,ax3,ax4,ax5,ax6) = plt.subplots(ncols=6, figsize=(8,4))\n",
    "    ax1.imshow(image_local)\n",
    "    ax2.imshow(mask_local)\n",
    "    ax3.imshow(depth_local)\n",
    "    ax4.imshow(rotate_image)\n",
    "    ax5.imshow(rotate_mask)\n",
    "    ax6.imshow(rotate_depth)\n",
    "    plt.show()"
   ]
  },
  {
   "cell_type": "code",
   "execution_count": null,
   "metadata": {},
   "outputs": [],
   "source": [
    "print(rotate_mask.shape)\n",
    "print(rotate_image.shape)"
   ]
  },
  {
   "cell_type": "code",
   "execution_count": null,
   "metadata": {},
   "outputs": [],
   "source": [
    "depth.shape"
   ]
  },
  {
   "cell_type": "code",
   "execution_count": null,
   "metadata": {},
   "outputs": [],
   "source": []
  },
  {
   "cell_type": "code",
   "execution_count": null,
   "metadata": {},
   "outputs": [],
   "source": [
    "for i in range(0, 20):\n",
    "    pig = df.iloc[i]\n",
    "\n",
    "    img = imread(os.path.join(DATA_DIR, pig.filename))\n",
    "    x0, y0, w, h = pig.bbox\n",
    "    img = img[y0:y0 + h, x0:x0 + w] \n",
    "\n",
    "    depth = imread(os.path.join(\n",
    "        DATA_DIR, pig.filename.replace('rgb', 'depth').replace('.jpg', '.png')))\n",
    "    depth = cv2.resize(depth, (640, 480))\n",
    "    depth = depth[y0:y0 + h, x0:x0 + w]\n",
    "    height = np.where(depth != 0, pig.floor_depth - depth.astype(int), 0)\n",
    "\n",
    "    mask = pymask.decode(pig.polygon._rle)\n",
    "    mask = mask[y0:y0 + h, x0:x0 + w]\n",
    "\n",
    "    print(f'index: {i}, House: {pig[\"loc\"]},  PigID: {pig.UID}')\n",
    "    fix, ax = plt.subplots(figsize=(8, 3), ncols=3)\n",
    "    ax[0].imshow(img);\n",
    "    ax[1].imshow(mask);\n",
    "    ax[2].imshow(height);\n",
    "    ax[0].axes.xaxis.set_visible(False)\n",
    "    ax[0].axes.yaxis.set_visible(False)\n",
    "    ax[1].axes.xaxis.set_visible(False)\n",
    "    ax[1].axes.yaxis.set_visible(False)\n",
    "    ax[2].axes.xaxis.set_visible(False)\n",
    "    ax[2].axes.yaxis.set_visible(False)\n",
    "    plt.show()"
   ]
  },
  {
   "cell_type": "markdown",
   "metadata": {},
   "source": [
    "# len(df)"
   ]
  },
  {
   "cell_type": "code",
   "execution_count": null,
   "metadata": {},
   "outputs": [],
   "source": [
    "pig = df.iloc[136]\n",
    "\n",
    "img = imread(os.path.join(DATA_DIR, pig.filename))\n",
    "x0, y0, w, h = pig.bbox\n",
    "img = img[y0:y0 + h, x0:x0 + w] \n",
    "\n",
    "depth = imread(os.path.join(\n",
    "    DATA_DIR, pig.filename.replace('rgb', 'depth').replace('.jpg', '.png')))\n",
    "depth = cv2.resize(depth, (640, 480))\n",
    "depth = depth[y0:y0 + h, x0:x0 + w]\n",
    "# height = np.where(depth != 0, pig.floor_depth - depth.astype(int), 0)\n",
    "depth = depth * (pig.floor_depth - depth.astype(int))\n",
    "\n",
    "mask = pymask.decode(pig.polygon._rle)\n",
    "mask = mask[y0:y0 + h, x0:x0 + w]\n",
    "\n",
    "print(f'index: {i}, House: {pig[\"loc\"]},  PigID: {pig.UID}')\n",
    "fix, ax = plt.subplots(figsize=(8, 3), ncols=3)\n",
    "ax[0].imshow(img);\n",
    "ax[1].imshow(mask);\n",
    "ax[2].imshow(depth);\n",
    "ax[0].axes.xaxis.set_visible(False)\n",
    "ax[0].axes.yaxis.set_visible(False)\n",
    "ax[1].axes.xaxis.set_visible(False)\n",
    "ax[1].axes.yaxis.set_visible(False)\n",
    "ax[2].axes.xaxis.set_visible(False)\n",
    "ax[2].axes.yaxis.set_visible(False)\n",
    "plt.show()"
   ]
  },
  {
   "cell_type": "code",
   "execution_count": null,
   "metadata": {},
   "outputs": [],
   "source": []
  }
 ],
 "metadata": {
  "kernelspec": {
   "display_name": "Python 3",
   "language": "python",
   "name": "python3"
  },
  "language_info": {
   "codemirror_mode": {
    "name": "ipython",
    "version": 3
   },
   "file_extension": ".py",
   "mimetype": "text/x-python",
   "name": "python",
   "nbconvert_exporter": "python",
   "pygments_lexer": "ipython3",
   "version": "3.7.7"
  }
 },
 "nbformat": 4,
 "nbformat_minor": 4
}
