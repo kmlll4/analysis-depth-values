{
 "cells": [
  {
   "cell_type": "code",
   "execution_count": null,
   "id": "db21c0ff",
   "metadata": {},
   "outputs": [],
   "source": [
    "import os\n",
    "import sys\n",
    "sys.path.append('..')\n",
    "os.environ[\"CUDA_VISIBLE_DEVICES\"] = \"0, 3\"\n",
    "\n",
    "import matplotlib.pyplot as plt\n",
    "import numpy as np\n",
    "import pandas as pd\n",
    "from imageio import imread\n",
    "from pycocotools import mask as pymask\n",
    "import seaborn as sns\n",
    "from tqdm import tqdm\n",
    "import cv2\n",
    "import bisect\n",
    "from typing import Tuple\n",
    "from sklearn.metrics import r2_score, mean_absolute_percentage_error, mean_absolute_error\n",
    "\n",
    "import torch\n",
    "import torch.nn as nn\n",
    "from abcmodel.lib.mass import transforms as T\n",
    "from abcmodel.models.xception import Xception\n",
    "from abcmodel.models.mass_model import MassModelV3, EnsembleModel\n",
    "\n",
    "from main import DatasetWrapper\n",
    "\n",
    "DIR = '/workspace/pig'\n",
    "DATA_DIR = os.path.join(DIR, 'data/images_20220324/images')\n",
    "\n",
    "use_bin_class = False"
   ]
  },
  {
   "cell_type": "markdown",
   "id": "9575cafe",
   "metadata": {},
   "source": [
    "### Data Load"
   ]
  },
  {
   "cell_type": "code",
   "execution_count": null,
   "id": "cd072c32",
   "metadata": {},
   "outputs": [],
   "source": [
    "m_df = pd.read_pickle(os.path.join(DIR, 'data/akiyama/akiyama_20211208.pkl'))"
   ]
  },
  {
   "cell_type": "markdown",
   "id": "ec3a4b76",
   "metadata": {},
   "source": [
    "### Model Load"
   ]
  },
  {
   "cell_type": "code",
   "execution_count": null,
   "id": "98aba1a4",
   "metadata": {},
   "outputs": [],
   "source": [
    "mobilenet = MassModelV3(\n",
    "    backbone='mobilenet', input_channels=4, \n",
    "    num_features=3)\n",
    "xception = MassModelV3(\n",
    "    backbone='xception', input_channels=4, \n",
    "    num_features=3)\n",
    "\n",
    "model = EnsembleModel([mobilenet, xception])\n",
    "\n",
    "model = torch.nn.DataParallel(model).cuda()\n",
    "model = model.cuda().eval()\n",
    "\n",
    "model_path = os.path.join('/workspace/pig/model/', 'val_MRE-0.0482_val_narrow_MRE-0.0371.pth')\n",
    "model.module.load_state_dict(torch.load(model_path))\n",
    "model = model.module"
   ]
  },
  {
   "cell_type": "markdown",
   "id": "a8264ffc",
   "metadata": {},
   "source": [
    "### Model Evaluation"
   ]
  },
  {
   "cell_type": "code",
   "execution_count": null,
   "id": "5bc18717",
   "metadata": {},
   "outputs": [],
   "source": [
    "bins = [30., 40., 50., 60., 70., 80., 90., 100., 110.]\n",
    "bins = bins + [float(i) for i in range(111, 125)] + [125., 130., 140.]\n",
    "\n",
    "train_df = m_df[m_df[\"subset\"]==\"train\"]\n",
    "val_df = m_df[m_df[\"subset\"]==\"val\"]\n",
    "# test_df = m_df[m_df[\"subset\"]==\"test\"]\n",
    "test_df = test_df = m_df[(m_df['filename'].apply(lambda x: '20211125' in x))]\n",
    "print('訓練データ数: ', train_df.shape)\n",
    "print('検証データ数: ', val_df.shape)\n",
    "print('テストデータ数: ', test_df.shape)\n",
    "\n",
    "# normalize\n",
    "weight_mean = train_df['weight'].mean()\n",
    "weight_std = train_df['weight'].std()\n",
    "\n",
    "train_dataset = DatasetWrapper(\n",
    "    dataset=train_df, transforms=T.val_transforms, DATA_DIR=bDATA_DIR)\n",
    "val_dataset = DatasetWrapper(\n",
    "    dataset=val_df, transforms=T.val_transforms, DATA_DIR=DATA_DIR)\n",
    "test_dataset = DatasetWrapper(\n",
    "    dataset=test_df, transforms=T.val_transforms, DATA_DIR=DATA_DIR)\n",
    "\n",
    "train_loader = torch.utils.data.DataLoader(train_dataset, batch_size=1, num_workers=1, pin_memory=True)\n",
    "val_loader = torch.utils.data.DataLoader(val_dataset, batch_size=1, num_workers=1, pin_memory=True)\n",
    "test_loader = torch.utils.data.DataLoader(test_dataset, batch_size=1, num_workers=1, pin_memory=True)"
   ]
  },
  {
   "cell_type": "code",
   "execution_count": null,
   "id": "99b296da",
   "metadata": {},
   "outputs": [],
   "source": [
    "train_df.columns"
   ]
  },
  {
   "cell_type": "code",
   "execution_count": null,
   "id": "4751f2bc",
   "metadata": {},
   "outputs": [],
   "source": [
    "plt.imshow(train_dataset[129][0].numpy()[0])"
   ]
  },
  {
   "cell_type": "code",
   "execution_count": null,
   "id": "4ecd4f17",
   "metadata": {},
   "outputs": [],
   "source": [
    "train_dataset[0]"
   ]
  },
  {
   "cell_type": "markdown",
   "id": "6554408a",
   "metadata": {},
   "source": [
    "### Run Eval"
   ]
  },
  {
   "cell_type": "code",
   "execution_count": null,
   "id": "2fb3d364",
   "metadata": {},
   "outputs": [],
   "source": [
    "# eval\n",
    "model = model.eval()\n",
    "\n",
    "val_gts = []\n",
    "val_preds = []\n",
    "for i, (tensor, feats, gt, _) in tqdm(enumerate(val_loader)):\n",
    "    _b_size = len(tensor)\n",
    "    tensor = tensor.cuda()\n",
    "    feats = feats.cuda()\n",
    "\n",
    "    tensor = tensor.unsqueeze(1)\n",
    "    feats = feats.unsqueeze(1)\n",
    "\n",
    "    tensor_hflip = torch.flip(tensor, dims=(-1,))\n",
    "    tensor_vflip = torch.flip(tensor, dims=(-2,))\n",
    "    tensor_vhflip = torch.flip(tensor, dims=(-1, -2))\n",
    "\n",
    "    # add flip image and ensemble\n",
    "    tta_tensor = torch.cat([\n",
    "        tensor, tensor_hflip, tensor_vflip, tensor_vhflip], dim=1)\n",
    "    tta_feats = feats.repeat_interleave(repeats=4, dim=1)\n",
    "\n",
    "    assert len(tta_tensor) == len(tta_feats) == _b_size\n",
    "\n",
    "    tta_tensor = tta_tensor.view(_b_size*4, *tta_tensor.shape[-3:])\n",
    "    tta_feats = tta_feats.view(_b_size*4, 3)\n",
    "\n",
    "    assert tta_tensor.dim() == 4\n",
    "\n",
    "    with torch.no_grad():\n",
    "        pred = model(tta_tensor, tta_feats)\n",
    "\n",
    "        pred = pred.view(_b_size, 4, 2, 1)\n",
    "        pred_mean = pred.mean(axis=(1,2))\n",
    "\n",
    "        val_gts.extend((gt.flatten()).tolist())\n",
    "        val_preds.extend((pred_mean.flatten()*weight_std+weight_mean).tolist())"
   ]
  },
  {
   "cell_type": "code",
   "execution_count": null,
   "id": "cf425dc3",
   "metadata": {},
   "outputs": [],
   "source": [
    "val_gts = np.array(val_gts)\n",
    "val_preds = np.array(val_preds)\n",
    "val_mre = mean_absolute_percentage_error(val_gts, val_preds)\n",
    "\n",
    "narrow = (val_gts >= 100) & (val_gts <= 120)\n",
    "val_narrow_mre = mean_absolute_percentage_error(val_gts[narrow], val_preds[narrow])\n",
    "print(val_mre, ' ', val_narrow_mre)"
   ]
  },
  {
   "cell_type": "code",
   "execution_count": null,
   "id": "f533aa4a",
   "metadata": {},
   "outputs": [],
   "source": [
    "norm_val_predicted = []\n",
    "val_gts = []\n",
    "\n",
    "model = model.eval()\n",
    "\n",
    "for i, (tensor, feats, gt, _) in tqdm(enumerate(val_loader)):\n",
    "    tensor = tensor.cuda()\n",
    "    feats = feats.cuda()\n",
    "    gt = gt.cuda()\n",
    "    tensor_hflip = torch.flip(tensor, dims=(-1,))\n",
    "    tensor_vflip = torch.flip(tensor, dims=(-2,))\n",
    "    tensor_vhflip = torch.flip(tensor, dims=(-1,-2))\n",
    "    tta_tensor = torch.cat([tensor, tensor_hflip, tensor_vflip, tensor_vhflip], dim=0)\n",
    "    tta_feats = feats.repeat_interleave(repeats=4, dim=0)\n",
    "\n",
    "    with torch.no_grad():\n",
    "        if use_bin_class:\n",
    "            pred, bin_class = model(tta_tensor, tta_feats)\n",
    "        else:\n",
    "            pred = model(tta_tensor, tta_feats)\n",
    "\n",
    "    val_gts.append(gt.item())\n",
    "    norm_val_predicted.append(pred.mean().item())\n",
    "\n",
    "val_predicted = list(np.array(norm_val_predicted)*weight_std+weight_mean)\n",
    "val_predicted = np.clip(val_predicted, 30, 150)\n",
    "print('検証結果: ', mean_absolute_percentage_error(val_gts, val_predicted))"
   ]
  },
  {
   "cell_type": "markdown",
   "id": "d2d4f6d4",
   "metadata": {},
   "source": [
    "### Run Test"
   ]
  },
  {
   "cell_type": "code",
   "execution_count": null,
   "id": "73e4e2b2",
   "metadata": {},
   "outputs": [],
   "source": [
    "norm_test_predicted = []\n",
    "test_gts = []\n",
    "\n",
    "for i, (tensor, feats, gt, _) in tqdm(enumerate(test_loader)):\n",
    "    tensor = tensor.cuda()\n",
    "    feats = feats.cuda()\n",
    "    gt = gt.cuda()\n",
    "    tensor_hflip = torch.flip(tensor, dims=(-1,))\n",
    "    tensor_vflip = torch.flip(tensor, dims=(-2,))\n",
    "    tensor_vhflip = torch.flip(tensor, dims=(-1,-2))\n",
    "    tta_tensor = torch.cat([tensor, tensor_hflip, tensor_vflip, tensor_vhflip], dim=0)\n",
    "    tta_feats = feats.repeat_interleave(repeats=4, dim=0)\n",
    "\n",
    "    with torch.no_grad():\n",
    "        pred = model(tta_tensor, tta_feats)\n",
    "\n",
    "    test_gts.append(gt.item())\n",
    "    norm_test_predicted.append(pred.mean().item())\n",
    "    \n",
    "test_predicted = list(np.array(norm_test_predicted)*weight_std+weight_mean)\n",
    "test_predicted = np.clip(test_predicted, 30, 150)"
   ]
  },
  {
   "cell_type": "code",
   "execution_count": null,
   "id": "873e2bba",
   "metadata": {},
   "outputs": [],
   "source": [
    "test_gts = np.array(test_gts)\n",
    "test_predicted = np.array(test_predicted)\n",
    "test_mre = mean_absolute_percentage_error(test_gts, test_predicted)\n",
    "\n",
    "narrow = (test_gts >= 100) & (test_gts <= 120)\n",
    "test_narrow_mre = mean_absolute_percentage_error(test_gts[narrow], test_predicted[narrow])\n",
    "print(test_mre, ' ', test_narrow_mre)"
   ]
  },
  {
   "cell_type": "code",
   "execution_count": null,
   "id": "eb6836b2",
   "metadata": {},
   "outputs": [],
   "source": [
    "print('検証結果: ', mean_absolute_percentage_error(val_gts, val_predicted))\n",
    "print('テスト結果: ', mean_absolute_percentage_error(test_gts, test_predicted))"
   ]
  },
  {
   "cell_type": "code",
   "execution_count": null,
   "id": "2943201b",
   "metadata": {},
   "outputs": [],
   "source": [
    "val_df.loc[:, 'GT'] = val_gts\n",
    "val_df.loc[:, 'pred'] = val_predicted\n",
    "val_df.loc[:, 'error'] = (val_df['pred'] - val_df['GT']) / val_df['GT']\n",
    "# val_df = val_df.reset_index()\n",
    "\n",
    "test_df.loc[:, 'GT'] = test_gts\n",
    "test_df.loc[:, 'pred'] = test_predicted\n",
    "test_df.loc[:, 'error'] = (test_df['pred'] - test_df['GT']) / test_df['GT']\n",
    "# test_df = test_df.reset_index()"
   ]
  },
  {
   "cell_type": "code",
   "execution_count": null,
   "id": "0079d97a",
   "metadata": {},
   "outputs": [],
   "source": [
    "old_idx = list(val_df[val_df['posture'] != 'None'].index)\n",
    "new_idx = list(val_df[val_df['posture'] == 'None'].index)\n",
    "print(len(old_idx), ' ', len(new_idx))\n",
    "\n",
    "print('旧データの検証誤差: ', mean_absolute_percentage_error(val_df.loc[old_idx]['GT'].values, val_df.loc[old_idx]['pred'].values))\n",
    "print('新データの検証誤差: ', mean_absolute_percentage_error(val_df.loc[new_idx]['GT'].values, val_df.loc[new_idx]['pred'].values))\n",
    "\n",
    "test_df[['loc', 'UID', 'GT', 'pred']].sort_values(by='loc').to_csv('JF_test1125.csv', index=False)"
   ]
  },
  {
   "cell_type": "code",
   "execution_count": null,
   "id": "7a918d24",
   "metadata": {},
   "outputs": [],
   "source": []
  },
  {
   "cell_type": "code",
   "execution_count": null,
   "id": "13f0125f",
   "metadata": {},
   "outputs": [],
   "source": []
  },
  {
   "cell_type": "code",
   "execution_count": null,
   "id": "78119fda",
   "metadata": {},
   "outputs": [],
   "source": []
  },
  {
   "cell_type": "code",
   "execution_count": null,
   "id": "420cc5b9",
   "metadata": {},
   "outputs": [],
   "source": []
  },
  {
   "cell_type": "code",
   "execution_count": null,
   "id": "cd21596d",
   "metadata": {},
   "outputs": [],
   "source": []
  },
  {
   "cell_type": "code",
   "execution_count": null,
   "id": "0df59f6b",
   "metadata": {},
   "outputs": [],
   "source": [
    "old_idx = list(test_df[test_df['posture'] != 'None'].index)\n",
    "new_idx = list(test_df[test_df['posture'] == 'None'].index)\n",
    "print(len(old_idx), ' ', len(new_idx))\n",
    "\n",
    "print('旧データのテスト誤差: ', mean_absolute_percentage_error(test_df.loc[old_idx]['GT'].values, test_df.loc[old_idx]['pred'].values))\n",
    "print('新データのテスト誤差: ', mean_absolute_percentage_error(test_df.loc[new_idx]['GT'].values, test_df.loc[new_idx]['pred'].values) )"
   ]
  },
  {
   "cell_type": "markdown",
   "id": "7317b213",
   "metadata": {},
   "source": [
    "### Plot result"
   ]
  },
  {
   "cell_type": "markdown",
   "id": "b3119ad1",
   "metadata": {},
   "source": [
    "#### Eval data"
   ]
  },
  {
   "cell_type": "code",
   "execution_count": null,
   "id": "be1b5a4b",
   "metadata": {},
   "outputs": [],
   "source": [
    "for posture in ['lying', 'standing', 'sitting']:\n",
    "    idx = list(val_df[val_df['posture'] ==posture].index)\n",
    "    plt.scatter(val_df['GT'].values[idx], val_df['error'].values[idx], label=posture)\n",
    "\n",
    "# plt.ylim(-0.5, 0.5)\n",
    "    \n",
    "plt.legend()\n",
    "plt.xlabel('GT')\n",
    "plt.ylabel('(pred - GT) / GT')"
   ]
  },
  {
   "cell_type": "code",
   "execution_count": null,
   "id": "f3c07854",
   "metadata": {},
   "outputs": [],
   "source": [
    "for posture in ['None']:\n",
    "    idx = list(val_df[val_df['posture'] ==posture].index)\n",
    "    plt.scatter(val_df['GT'].values[idx], val_df['error'].values[idx], label=posture, color='red')\n",
    "\n",
    "# plt.ylim(-0.3, 0.7)\n",
    "    \n",
    "plt.legend()\n",
    "plt.xlabel('GT')\n",
    "plt.ylabel('(pred - GT) / GT')"
   ]
  },
  {
   "cell_type": "markdown",
   "id": "c88f1d96",
   "metadata": {},
   "source": [
    "#### Test data"
   ]
  },
  {
   "cell_type": "code",
   "execution_count": null,
   "id": "745e248f",
   "metadata": {},
   "outputs": [],
   "source": [
    "for posture in ['lying', 'standing', 'sitting']:\n",
    "    idx = list(test_df[test_df['posture'] == posture].index)\n",
    "    plt.scatter(test_df['GT'].values[idx], test_df['error'].values[idx], label=posture)\n",
    "\n",
    "# plt.ylim(-0.5, 0.5)\n",
    "    \n",
    "plt.legend()\n",
    "plt.xlabel('GT')\n",
    "plt.ylabel('(pred - GT) / GT')"
   ]
  },
  {
   "cell_type": "code",
   "execution_count": null,
   "id": "3c01f179",
   "metadata": {},
   "outputs": [],
   "source": [
    "for posture in ['lying', 'standing', 'sitting', 'None']:\n",
    "    idx = list(test_df[test_df['posture'] == posture].index)\n",
    "    if posture == 'None':\n",
    "        posture = 'new data'\n",
    "    plt.scatter(test_df['GT'].values[idx], test_df['error'].values[idx], label=posture)\n",
    "\n",
    "# plt.ylim(-0.5, 0.7)\n",
    "    \n",
    "plt.legend()\n",
    "plt.xlabel('GT')\n",
    "plt.ylabel('(pred - GT) / GT')"
   ]
  },
  {
   "cell_type": "code",
   "execution_count": null,
   "id": "002a0fd4",
   "metadata": {},
   "outputs": [],
   "source": [
    "for posture in ['None']:\n",
    "    idx = list(test_df[test_df['posture'] == posture].index)\n",
    "    plt.scatter(test_df['GT'].values[idx], test_df['error'].values[idx], label=posture, color='red')\n",
    "\n",
    "# plt.ylim(-0.5, 0.7)\n",
    "    \n",
    "plt.legend()\n",
    "plt.xlabel('GT')\n",
    "plt.ylabel('(pred - GT) / GT')"
   ]
  },
  {
   "cell_type": "markdown",
   "id": "644ac7d1",
   "metadata": {},
   "source": [
    "### Error of each bin"
   ]
  },
  {
   "cell_type": "markdown",
   "id": "761d0bf8",
   "metadata": {},
   "source": [
    "#### Val data"
   ]
  },
  {
   "cell_type": "code",
   "execution_count": null,
   "id": "15e6b77a",
   "metadata": {},
   "outputs": [],
   "source": [
    "for i,b in enumerate(bins[0:-1]):\n",
    "    left = bins[i]\n",
    "    right = bins[i+1]\n",
    "    print(f'{left} ~ {right}:', np.mean(val_df[(left <= val_df['GT']) & (val_df['GT'] < right)]['error'].abs())*100)"
   ]
  },
  {
   "cell_type": "markdown",
   "id": "153be117",
   "metadata": {},
   "source": [
    "#### Test data"
   ]
  },
  {
   "cell_type": "code",
   "execution_count": null,
   "id": "57adf763",
   "metadata": {},
   "outputs": [],
   "source": [
    "for i,b in enumerate(bins[0:-1]):\n",
    "    left = bins[i]\n",
    "    right = bins[i+1]\n",
    "    print(f'{left} ~ {right}:', np.mean(test_df[(left <= test_df['GT']) & (test_df['GT'] < right)]['error'].abs())*100)"
   ]
  },
  {
   "cell_type": "code",
   "execution_count": null,
   "id": "237d05e7",
   "metadata": {},
   "outputs": [],
   "source": [
    "for i,b in enumerate(bins[0:-1]):\n",
    "    left = bins[i]\n",
    "    right = bins[i+1]\n",
    "    print(f'{left} ~ {right}:', np.max(test_df[(left <= test_df['GT']) & (test_df['GT'] < right)]['error'].abs())*100)"
   ]
  },
  {
   "cell_type": "markdown",
   "id": "479e78e1",
   "metadata": {},
   "source": [
    "### Check bad performance data"
   ]
  },
  {
   "cell_type": "code",
   "execution_count": null,
   "id": "4dfda35a",
   "metadata": {},
   "outputs": [],
   "source": [
    "test_df[(test_df['error']*100).abs() < 1][['GT', 'pred', 'error']]"
   ]
  },
  {
   "cell_type": "code",
   "execution_count": null,
   "id": "92d9d5a2",
   "metadata": {},
   "outputs": [],
   "source": [
    "pig = test_df.iloc[36]\n",
    "\n",
    "img = imread(os.path.join(DATA_DIR, pig.filename))\n",
    "x0, y0, w, h = pig.bbox\n",
    "img = img[y0:y0 + h, x0:x0 + w] \n",
    "\n",
    "mask = pymask.decode(pig.polygon._rle)\n",
    "mask = mask[y0:y0 + h, x0:x0 + w]\n",
    "\n",
    "\n",
    "depth = imread(os.path.join(\n",
    "    DATA_DIR, pig.filename.replace('rgb', 'depth').replace('.jpg', '.png')))\n",
    "\n",
    "depth = cv2.resize(depth, (640, 480))\n",
    "depth[depth > pig.floor_depth] = pig.floor_depth\n",
    "depth = depth[y0:y0 + h, x0:x0 + w]\n",
    "depth = np.where(depth != 0, pig.floor_depth - depth.astype(int), 0)\n",
    "\n",
    "mask = pymask.decode(pig.polygon._rle)\n",
    "mask = mask[y0:y0 + h, x0:x0 + w]\n",
    "\n",
    "# depth正規化を追加 \n",
    "depth[depth == 0] = depth.mean()\n",
    "depth *= mask\n",
    "_sigma = depth.mean() + 2*depth.std()\n",
    "depth[depth> _sigma] = depth[depth > 0].mean()\n",
    "# depth正規化追加\n",
    "\n",
    "\n",
    "fix, ax = plt.subplots(figsize=(8, 4), ncols=3);\n",
    "print(f'GT: {pig.GT}, pred: {pig.pred}')\n",
    "ax[0].imshow(img);\n",
    "ax[1].imshow(mask);\n",
    "ax[2].imshow(depth);"
   ]
  },
  {
   "cell_type": "code",
   "execution_count": null,
   "id": "5708690b",
   "metadata": {},
   "outputs": [],
   "source": [
    "pig"
   ]
  },
  {
   "cell_type": "code",
   "execution_count": null,
   "id": "c226db14",
   "metadata": {},
   "outputs": [],
   "source": []
  }
 ],
 "metadata": {
  "kernelspec": {
   "display_name": "Python 3",
   "language": "python",
   "name": "python3"
  },
  "language_info": {
   "codemirror_mode": {
    "name": "ipython",
    "version": 3
   },
   "file_extension": ".py",
   "mimetype": "text/x-python",
   "name": "python",
   "nbconvert_exporter": "python",
   "pygments_lexer": "ipython3",
   "version": "3.6.6"
  }
 },
 "nbformat": 4,
 "nbformat_minor": 5
}
